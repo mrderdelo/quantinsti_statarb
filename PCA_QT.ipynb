{
 "cells": [
  {
   "cell_type": "code",
   "execution_count": null,
   "metadata": {},
   "outputs": [],
   "source": [
    "import numpy as np\n",
    "import pandas as pd\n",
    "import matplotlib.pyplot as plt\n",
    "import time\n",
    "import datetime\n",
    "from quantopian.pipeline.classifiers.morningstar import Sector\n",
    "from quantopian.pipeline import Pipeline\n",
    "from quantopian.pipeline.data.builtin import USEquityPricing\n",
    "from quantopian.research import run_pipeline\n",
    "from quantopian.pipeline.data import morningstar, Fundamentals\n",
    "from quantopian.pipeline.factors import CustomFactor,AverageDollarVolume,SimpleMovingAverage, ExponentialWeightedMovingAverage, EWMA\n",
    "from quantopian.pipeline.filters.morningstar import IsPrimaryShare\n",
    "from quantopian.pipeline.factors import AverageDollarVolume\n",
    "from quantopian.pipeline.factors.morningstar import MarketCap\n",
    "from quantopian.pipeline.experimental import QTradableStocksUS\n",
    "from statsmodels.tsa.stattools import coint\n",
    "from scipy import stats as stats\n",
    "from sklearn.linear_model import LinearRegression\n",
    "from sklearn.decomposition import PCA\n",
    "import scipy\n",
    "import statsmodels.api as sm"
   ]
  },
  {
   "cell_type": "code",
   "execution_count": null,
   "metadata": {},
   "outputs": [],
   "source": [
    "def make_pipe(start,end):        \n",
    "    mcap = MarketCap()\n",
    "    min_mcap = mcap > 5e10\n",
    "    \n",
    "    price = USEquityPricing.close.latest\n",
    "    can_trade = QTradableStocksUS()\n",
    "    sector = Sector()\n",
    "    \n",
    "    asset_filter = can_trade & min_mcap\n",
    "    pipe = Pipeline(screen = asset_filter)\n",
    "\n",
    "    pipe.add(price,'price')\n",
    "    pipe.add(sector,\"Sector\")\n",
    "    \n",
    "\n",
    "    res2 = run_pipeline(pipe, start, end)\n",
    "    return res2"
   ]
  },
  {
   "cell_type": "code",
   "execution_count": null,
   "metadata": {},
   "outputs": [],
   "source": [
    "MORNINGSTAR_SECTOR_CODES = {  \n",
    "     -1: 'Misc',  \n",
    "    101: 'Basic Materials',  \n",
    "    102: 'Consumer Cyclical',  \n",
    "    103: 'Financial Services',  \n",
    "    104: 'Real Estate',  \n",
    "    205: 'Consumer Defensive',  \n",
    "    206: 'Healthcare',  \n",
    "    207: 'Utilities',  \n",
    "    308: 'Communication Services',  \n",
    "    309: 'Energy',  \n",
    "    310: 'Industrials',  \n",
    "    311: 'Technology' ,  \n",
    "}"
   ]
  },
  {
   "cell_type": "code",
   "execution_count": null,
   "metadata": {},
   "outputs": [],
   "source": [
    "end = datetime.datetime(2019,5,5)  - datetime.timedelta(2)\n",
    "start = datetime.datetime(2019,5,5) - datetime.timedelta(18)\n",
    "result = make_pipe(start,end)\n",
    "result.head()"
   ]
  },
  {
   "cell_type": "code",
   "execution_count": null,
   "metadata": {},
   "outputs": [],
   "source": [
    "date = result.index[0][0]\n",
    "\n",
    "companies = []\n",
    "for company in result.loc[date]['Sector'].index:\n",
    "    if result.loc[date]['Sector'][company] ==  311:\n",
    "#     if result.loc[date]['Sector'][company] ==  206:\n",
    "#     if result.loc[date]['Sector'][company] ==  310:\n",
    "        companies.append(company)"
   ]
  },
  {
   "cell_type": "code",
   "execution_count": null,
   "metadata": {},
   "outputs": [],
   "source": [
    "companies"
   ]
  },
  {
   "cell_type": "code",
   "execution_count": null,
   "metadata": {},
   "outputs": [],
   "source": [
    "prices = get_pricing(companies, start_date=start, end_date=end, frequency='minute', fields='price')"
   ]
  },
  {
   "cell_type": "code",
   "execution_count": null,
   "metadata": {},
   "outputs": [],
   "source": [
    "coints = []\n",
    "corrs = []\n",
    "for c1 in range(len(companies)):\n",
    "    for c2 in range(c1,len(companies)):\n",
    "        if c1==c2: continue\n",
    "        coints.append(coint(prices[companies[c1]],prices[companies[c2]])[0])\n",
    "        corrs.append(np.corrcoef(prices[companies[c1]],prices[companies[c2]])[0][1])\n",
    "        print(c1,c2,coints[-1])"
   ]
  },
  {
   "cell_type": "code",
   "execution_count": null,
   "metadata": {},
   "outputs": [],
   "source": [
    "print(np.mean(coints),np.mean(corrs))"
   ]
  },
  {
   "cell_type": "code",
   "execution_count": null,
   "metadata": {},
   "outputs": [],
   "source": [
    "def backtest(prices,max_pos=1,num_factors=1,initial_cash=1e6,lkbk=500):\n",
    "    pr = np.asarray(prices.T)\n",
    "    entry = {}\n",
    "    pnls = []\n",
    "    dates = []\n",
    "    #resids = run_pca(pr,num_factors)\n",
    "    \n",
    "    if max_pos > pr.shape[0]/2:\n",
    "        print('max_pos too large!')\n",
    "        return\n",
    "\n",
    "    for i,pri in enumerate(pr.T):\n",
    "\n",
    "        if i < 60: continue\n",
    " \n",
    "        resids, factors = run_pca(pr[:,max(0,i-lkbk):i],num_factors,log_prices=True)\n",
    "        zs = {}\n",
    "        for inst in range(len(pri)):\n",
    "            #zs[inst] = Zscore(resids[inst])[i]\n",
    "            zs[inst] = Zscore(resids[inst])[-1]\n",
    "\n",
    "        idx_long = (np.argsort([zs[j] for j in zs])[:max_pos])\n",
    "        idx_short = (np.argsort([zs[j] for j in zs])[-max_pos:])\n",
    "        \n",
    "        pnl = 0\n",
    "        for j,idx in enumerate(entry):\n",
    "            wgt = np.round((initial_cash/len(pri))/entry[idx])\n",
    "            #pnl += ((pri[idx]-np.abs(entry[idx]))/np.abs(entry[idx]))*wgt/initial_cash\n",
    "            pnl += ((pri[idx]-np.abs(entry[idx])))*wgt\n",
    "            #print pnl\n",
    "        pnls.append(pnl)\n",
    "        dates.append(prices.index[i])\n",
    "            \n",
    "        entry = {}\n",
    "        \n",
    "\n",
    "        #print(idx_long, idx_short)\n",
    "        for idx in idx_long:\n",
    "            entry[idx] = pri[idx]\n",
    "        for idx in idx_short:\n",
    "            entry[idx] = -pri[idx]\n",
    "        #print(i,entry)\n",
    "        \n",
    "        print(i,sum(pnls))\n",
    "    return pnls,dates"
   ]
  },
  {
   "cell_type": "code",
   "execution_count": null,
   "metadata": {},
   "outputs": [],
   "source": [
    "def Zscore(X):\n",
    "    return np.array((X - np.mean(X)) / np.std(X))"
   ]
  },
  {
   "cell_type": "code",
   "execution_count": null,
   "metadata": {},
   "outputs": [],
   "source": [
    "def run_pca(pr,components=1,log_prices=True):\n",
    "    pca = PCA(n_components=components)\n",
    "    if log_prices:\n",
    "        comps = pca.fit(np.log(pr.T)).components_.T\n",
    "    else:\n",
    "        comps = pca.fit(pr.T).components_.T\n",
    "    factors = sm.add_constant(pr.T.dot(comps))\n",
    "    mm = [sm.OLS(s.T, factors).fit() for s in pr]\n",
    "    resids = list(map(lambda x: x.resid, mm))\n",
    "    return resids, factors"
   ]
  },
  {
   "cell_type": "code",
   "execution_count": null,
   "metadata": {},
   "outputs": [],
   "source": [
    "for p in np.asarray(prices.T):\n",
    "    plt.plot((p-p[0])/np.std(p))"
   ]
  },
  {
   "cell_type": "code",
   "execution_count": null,
   "metadata": {
    "scrolled": true
   },
   "outputs": [],
   "source": [
    "pnls,dates = backtest(prices,max_pos=2,num_factors=2,initial_cash=1e6,lkbk=400)"
   ]
  },
  {
   "cell_type": "code",
   "execution_count": null,
   "metadata": {},
   "outputs": [],
   "source": [
    "plt.plot(np.cumsum(pnls));"
   ]
  },
  {
   "cell_type": "code",
   "execution_count": null,
   "metadata": {},
   "outputs": [],
   "source": [
    "plt.plot(dates,np.cumsum(pnls));"
   ]
  },
  {
   "cell_type": "code",
   "execution_count": null,
   "metadata": {},
   "outputs": [],
   "source": []
  }
 ],
 "metadata": {
  "kernelspec": {
   "display_name": "Python 3",
   "language": "python",
   "name": "python3"
  },
  "language_info": {
   "codemirror_mode": {
    "name": "ipython",
    "version": 3
   },
   "file_extension": ".py",
   "mimetype": "text/x-python",
   "name": "python",
   "nbconvert_exporter": "python",
   "pygments_lexer": "ipython3",
   "version": "3.6.1"
  }
 },
 "nbformat": 4,
 "nbformat_minor": 2
}
